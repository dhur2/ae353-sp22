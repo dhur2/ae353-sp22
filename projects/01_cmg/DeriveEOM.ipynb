{
 "cells": [
  {
   "cell_type": "markdown",
   "id": "occasional-george",
   "metadata": {},
   "source": [
    "# Equations of motion for control moment gyroscope"
   ]
  },
  {
   "cell_type": "code",
   "execution_count": 1,
   "id": "sitting-discount",
   "metadata": {},
   "outputs": [],
   "source": [
    "import sympy as sym\n",
    "import numpy as np"
   ]
  },
  {
   "cell_type": "markdown",
   "id": "delayed-central",
   "metadata": {},
   "source": [
    "The `sympy.physics.mechanics` module makes it easier to work with (and display) time derivatives."
   ]
  },
  {
   "cell_type": "code",
   "execution_count": 2,
   "id": "dressed-frank",
   "metadata": {},
   "outputs": [],
   "source": [
    "from sympy.physics import mechanics\n",
    "mechanics.init_vprinting()"
   ]
  },
  {
   "cell_type": "markdown",
   "id": "greater-weekend",
   "metadata": {},
   "source": [
    "Define parameters in symbolic form."
   ]
  },
  {
   "cell_type": "code",
   "execution_count": 3,
   "id": "aa1f1399",
   "metadata": {},
   "outputs": [],
   "source": [
    "# Principal moments of inertia\n",
    "J_1x, J_1y, J_1z = sym.symbols('J_1x, J_1y, J_1z')\n",
    "J_2x, J_2y, J_2z = sym.symbols('J_2x, J_2y, J_2z')\n",
    "J_3x, J_3y, J_3z = sym.symbols('J_3x, J_3y, J_3z')\n",
    "\n",
    "# Moment of inertia matrices in body-fixed reference frames\n",
    "J1 = sym.Matrix.diag(J_1x, J_1y, J_1z)\n",
    "J2 = sym.Matrix.diag(J_2x, J_2y, J_2z)\n",
    "J3 = sym.Matrix.diag(J_3x, J_3y, J_3z)\n",
    "\n",
    "# Spar length\n",
    "r = sym.symbols('r')\n",
    "\n",
    "# Load mass\n",
    "m = sym.symbols('m')\n",
    "\n",
    "# Acceleration of gravity\n",
    "g = sym.symbols('g')"
   ]
  },
  {
   "cell_type": "markdown",
   "id": "mental-mileage",
   "metadata": {},
   "source": [
    "Define variables."
   ]
  },
  {
   "cell_type": "code",
   "execution_count": 4,
   "id": "ordered-extra",
   "metadata": {},
   "outputs": [],
   "source": [
    "# Time\n",
    "t = sym.Symbol('t')\n",
    "\n",
    "# Joint angles:\n",
    "q1, q2, q3 = mechanics.dynamicsymbols('q1, q2, q3')\n",
    "\n",
    "# Joint velocities\n",
    "v1 = q1.diff(t)\n",
    "v2 = q2.diff(t)\n",
    "v3 = q3.diff(t)\n",
    "\n",
    "# Joint accelerations\n",
    "a1 = v1.diff(t)\n",
    "a2 = v2.diff(t)\n",
    "a3 = v3.diff(t)\n",
    "\n",
    "# Torques:\n",
    "tau2, tau3 = sym.symbols('tau2, tau3')"
   ]
  },
  {
   "cell_type": "markdown",
   "id": "distant-roman",
   "metadata": {},
   "source": [
    "Compute angular velocity of each link with respect to body-fixed reference frames (the choice of frame is very important - using a space-fixed reference frame is a common mistake)."
   ]
  },
  {
   "cell_type": "code",
   "execution_count": 5,
   "id": "rental-adapter",
   "metadata": {},
   "outputs": [
    {
     "name": "stderr",
     "output_type": "stream",
     "text": [
      "C:\\Users\\david\\anaconda3\\lib\\site-packages\\IPython\\lib\\latextools.py:126: MatplotlibDeprecationWarning: \n",
      "The to_png function was deprecated in Matplotlib 3.4 and will be removed two minor releases later. Use mathtext.math_to_image instead.\n",
      "  mt.to_png(f, s, fontsize=12, dpi=dpi, color=color)\n",
      "C:\\Users\\david\\anaconda3\\lib\\site-packages\\IPython\\lib\\latextools.py:126: MatplotlibDeprecationWarning: \n",
      "The to_rgba function was deprecated in Matplotlib 3.4 and will be removed two minor releases later. Use mathtext.math_to_image instead.\n",
      "  mt.to_png(f, s, fontsize=12, dpi=dpi, color=color)\n",
      "C:\\Users\\david\\anaconda3\\lib\\site-packages\\IPython\\lib\\latextools.py:126: MatplotlibDeprecationWarning: \n",
      "The to_mask function was deprecated in Matplotlib 3.4 and will be removed two minor releases later. Use mathtext.math_to_image instead.\n",
      "  mt.to_png(f, s, fontsize=12, dpi=dpi, color=color)\n",
      "C:\\Users\\david\\anaconda3\\lib\\site-packages\\IPython\\lib\\latextools.py:126: MatplotlibDeprecationWarning: \n",
      "The MathtextBackendBitmap class was deprecated in Matplotlib 3.4 and will be removed two minor releases later. Use mathtext.math_to_image instead.\n",
      "  mt.to_png(f, s, fontsize=12, dpi=dpi, color=color)\n"
     ]
    },
    {
     "data": {
      "text/latex": [
       "$\\displaystyle \\left( \\left[\\begin{matrix}0\\\\0\\\\\\dot{q}_{1}\\end{matrix}\\right], \\  \\left[\\begin{matrix}\\dot{q}_{2}\\\\0\\\\\\dot{q}_{1}\\end{matrix}\\right], \\  \\left[\\begin{matrix}\\dot{q}_{2}\\\\\\sin{\\left(q_{2} \\right)} \\dot{q}_{1} - \\dot{q}_{3}\\\\\\cos{\\left(q_{2} \\right)} \\dot{q}_{1}\\end{matrix}\\right]\\right)$"
      ],
      "text/plain": [
       "⎛⎡0 ⎤  ⎡q₂̇⎤  ⎡      q₂̇       ⎤⎞\n",
       "⎜⎢  ⎥  ⎢  ⎥  ⎢               ⎥⎟\n",
       "⎜⎢0 ⎥, ⎢0 ⎥, ⎢sin(q₂)⋅q₁̇ - q₃̇⎥⎟\n",
       "⎜⎢  ⎥  ⎢  ⎥  ⎢               ⎥⎟\n",
       "⎝⎣q₁̇⎦  ⎣q₁̇⎦  ⎣  cos(q₂)⋅q₁̇   ⎦⎠"
      ]
     },
     "execution_count": 5,
     "metadata": {},
     "output_type": "execute_result"
    }
   ],
   "source": [
    "c1 = sym.cos(q1)\n",
    "s1 = sym.sin(q1)\n",
    "R_p_in_w = sym.Matrix([[c1, -s1, 0], [s1, c1, 0], [0, 0, 1]])\n",
    "\n",
    "c2 = sym.cos(q2)\n",
    "s2 = sym.sin(q2)\n",
    "R_g_in_p = sym.Matrix([[1, 0, 0], [0, c2, -s2], [0, s2, c2]])\n",
    "\n",
    "w1 = sym.Matrix([[0], [0], [v1]])\n",
    "w2 = R_p_in_w.T * w1 + sym.Matrix([[v2], [0], [0]])\n",
    "w3 = R_g_in_p.T * w2 + sym.Matrix([[0], [-v3], [0]])\n",
    "\n",
    "# Show result\n",
    "w1, w2, w3"
   ]
  },
  {
   "cell_type": "markdown",
   "id": "eff8de8e",
   "metadata": {},
   "source": [
    "Compute position and velocity of load mass."
   ]
  },
  {
   "cell_type": "code",
   "execution_count": 6,
   "id": "aaac2a0f",
   "metadata": {},
   "outputs": [
    {
     "data": {
      "text/latex": [
       "$\\displaystyle \\left( \\left[\\begin{matrix}- r \\cos{\\left(q_{1} \\right)}\\\\- r \\sin{\\left(q_{1} \\right)}\\\\0\\end{matrix}\\right], \\  \\left[\\begin{matrix}r \\sin{\\left(q_{1} \\right)} \\dot{q}_{1}\\\\- r \\cos{\\left(q_{1} \\right)} \\dot{q}_{1}\\\\0\\end{matrix}\\right]\\right)$"
      ],
      "text/plain": [
       "⎛⎡-r⋅cos(q₁)⎤  ⎡r⋅sin(q₁)⋅q₁̇ ⎤⎞\n",
       "⎜⎢          ⎥  ⎢             ⎥⎟\n",
       "⎜⎢-r⋅sin(q₁)⎥, ⎢-r⋅cos(q₁)⋅q₁̇⎥⎟\n",
       "⎜⎢          ⎥  ⎢             ⎥⎟\n",
       "⎝⎣    0     ⎦  ⎣      0      ⎦⎠"
      ]
     },
     "execution_count": 6,
     "metadata": {},
     "output_type": "execute_result"
    }
   ],
   "source": [
    "p = R_p_in_w * sym.Matrix([-r, 0, 0])\n",
    "v = p.diff(t)\n",
    "\n",
    "# Show result\n",
    "p, v"
   ]
  },
  {
   "cell_type": "markdown",
   "id": "antique-climb",
   "metadata": {},
   "source": [
    "Compute Lagrangian."
   ]
  },
  {
   "cell_type": "code",
   "execution_count": 7,
   "id": "tutorial-cleaning",
   "metadata": {},
   "outputs": [
    {
     "data": {
      "text/latex": [
       "$\\displaystyle \\left[\\begin{matrix}\\frac{J_{1z} \\dot{q}_{1}^{2}}{2} + \\frac{J_{2x} \\dot{q}_{2}^{2}}{2} + \\frac{J_{2z} \\dot{q}_{1}^{2}}{2} + \\frac{J_{3x} \\dot{q}_{2}^{2}}{2} + \\frac{J_{3y} \\sin^{2}{\\left(q_{2} \\right)} \\dot{q}_{1}^{2}}{2} - J_{3y} \\sin{\\left(q_{2} \\right)} \\dot{q}_{1} \\dot{q}_{3} + \\frac{J_{3y} \\dot{q}_{3}^{2}}{2} - \\frac{J_{3z} \\sin^{2}{\\left(q_{2} \\right)} \\dot{q}_{1}^{2}}{2} + \\frac{J_{3z} \\dot{q}_{1}^{2}}{2} + g m r \\cos{\\left(q_{1} \\right)} + \\frac{m r^{2} \\dot{q}_{1}^{2}}{2}\\end{matrix}\\right]$"
      ],
      "text/plain": [
       "⎡       2         2          2         2           2       2                  \n",
       "⎢J_1z⋅q₁̇    J₂ₓ⋅q₂̇    J_2z⋅q₁̇    J₃ₓ⋅q₂̇    J_3y⋅sin (q₂)⋅q₁̇              \n",
       "⎢──────── + ─────── + ──────── + ─────── + ───────────────── - J_3y⋅sin(q₂)⋅q₁\n",
       "⎣   2          2         2          2              2                          \n",
       "\n",
       "             2           2       2          2                      2   2⎤\n",
       "           J_3y⋅q₃̇    J_3z⋅sin (q₂)⋅q₁̇    J_3z⋅q₁̇                    m⋅r ⋅q\n",
       "̇⋅q₃̇ + ──────── - ───────────────── + ──────── + g⋅m⋅r⋅cos(q₁) + ────────⎥\n",
       "         2               2              2                          2    ⎦"
      ]
     },
     "execution_count": 7,
     "metadata": {},
     "output_type": "execute_result"
    }
   ],
   "source": [
    "T = ((w1.T * J1 * w1) + (w2.T * J2 * w2) + (w3.T * J3 * w3) + (v.T * m * v)) / 2\n",
    "V = m * g * (sym.Matrix([1, 0, 0]).T * p)\n",
    "L = sym.simplify(T - V)\n",
    "\n",
    "# Show result\n",
    "L"
   ]
  },
  {
   "cell_type": "markdown",
   "id": "distinguished-poultry",
   "metadata": {},
   "source": [
    "Compute equations of motion."
   ]
  },
  {
   "cell_type": "code",
   "execution_count": 8,
   "id": "crude-acquisition",
   "metadata": {},
   "outputs": [],
   "source": [
    "EOM = L.jacobian([v1, v2, v3]).diff(t) - L.jacobian([q1, q2, q3]) - sym.Matrix([0, tau2, tau3]).T"
   ]
  },
  {
   "cell_type": "markdown",
   "id": "meaning-disposal",
   "metadata": {},
   "source": [
    "Simplify equations of motion by solving for accelerations."
   ]
  },
  {
   "cell_type": "code",
   "execution_count": 9,
   "id": "usual-oliver",
   "metadata": {},
   "outputs": [],
   "source": [
    "sol = sym.solve(EOM, [a1, a2, a3])\n",
    "h = sym.together(sym.simplify(sym.Matrix([sol[a1], sol[a2], sol[a3]]), full=True))"
   ]
  },
  {
   "cell_type": "markdown",
   "id": "46fcb948",
   "metadata": {},
   "source": [
    "Assume $\\tau_3=0$ and look only at the equations of motion that govern the platform and the gimbal:"
   ]
  },
  {
   "cell_type": "code",
   "execution_count": 10,
   "id": "4adb0509",
   "metadata": {},
   "outputs": [],
   "source": [
    "h = h[0:2, 0].subs(tau3, 0)"
   ]
  },
  {
   "cell_type": "markdown",
   "id": "bc4b6686",
   "metadata": {},
   "source": [
    "Display the vector-valued function $h$ for which the equations of motion can be written as\n",
    "\n",
    "$$\\begin{bmatrix} \\ddot{q}_1 \\\\ \\ddot{q}_2 \\end{bmatrix} = h(q_1, q_2, \\dot{q}_1, \\dot{q}_2, \\tau_2)$$\n",
    "\n",
    "where everything else (mass and inertial parameters, spar length, acceleration of gravity, and rotor velocity $\\dot{q}_3$) is assumed constant."
   ]
  },
  {
   "cell_type": "code",
   "execution_count": 11,
   "id": "3b479b59",
   "metadata": {},
   "outputs": [
    {
     "data": {
      "text/latex": [
       "$\\displaystyle \\left[\\begin{matrix}\\frac{- J_{3y} \\sin{\\left(2 q_{2} \\right)} \\dot{q}_{1} \\dot{q}_{2} + 2 J_{3y} \\cos{\\left(q_{2} \\right)} \\dot{q}_{2} \\dot{q}_{3} + 2 J_{3z} \\sin{\\left(2 q_{2} \\right)} \\dot{q}_{1} \\dot{q}_{2} - 2 g m r \\sin{\\left(q_{1} \\right)}}{2 \\left(J_{1z} + J_{2z} + J_{3z} \\cos^{2}{\\left(q_{2} \\right)} + m r^{2}\\right)}\\\\\\frac{J_{3y} \\sin{\\left(2 q_{2} \\right)} \\dot{q}_{1}^{2} - 2 J_{3y} \\cos{\\left(q_{2} \\right)} \\dot{q}_{1} \\dot{q}_{3} - J_{3z} \\sin{\\left(2 q_{2} \\right)} \\dot{q}_{1}^{2} + 2 \\tau_{2}}{2 \\left(J_{2x} + J_{3x}\\right)}\\end{matrix}\\right]$"
      ],
      "text/plain": [
       "⎡-J_3y⋅sin(2⋅q₂)⋅q₁̇⋅q₂̇ + 2⋅J_3y⋅cos(q₂)⋅q₂̇⋅q₃̇ + 2⋅J_3z⋅sin(2⋅q₂)⋅q₁̇⋅q₂̇ -\n",
       "⎢─────────────────────────────────────────────────────────────────────────────\n",
       "⎢                           ⎛                      2          2⎞              \n",
       "⎢                         2⋅⎝J_1z + J_2z + J_3z⋅cos (q₂) + m⋅r ⎠              \n",
       "⎢                                                                             \n",
       "⎢                          2                                           2      \n",
       "⎢         J_3y⋅sin(2⋅q₂)⋅q₁̇  - 2⋅J_3y⋅cos(q₂)⋅q₁̇⋅q₃̇ - J_3z⋅sin(2⋅q₂)⋅q₁̇  +\n",
       "⎢         ────────────────────────────────────────────────────────────────────\n",
       "⎣                                     2⋅(J₂ₓ + J₃ₓ)                           \n",
       "\n",
       " 2⋅g⋅m⋅r⋅sin(q₁)⎤\n",
       "──────────⎥\n",
       "          ⎥\n",
       "          ⎥\n",
       "          ⎥\n",
       "          ⎥\n",
       " 2⋅τ₂         ⎥\n",
       "─         ⎥\n",
       "          ⎦"
      ]
     },
     "execution_count": 11,
     "metadata": {},
     "output_type": "execute_result"
    }
   ],
   "source": [
    "h"
   ]
  },
  {
   "cell_type": "markdown",
   "id": "collected-zoning",
   "metadata": {},
   "source": [
    "Display $h$ as latex-formatted text that could be copy/pasted into a $\\LaTeX$ document (or into markdown)."
   ]
  },
  {
   "cell_type": "code",
   "execution_count": 12,
   "id": "d4fcfcb4",
   "metadata": {},
   "outputs": [],
   "source": [
    "h=h.subs(J_1z, 0.5)\n",
    "h=h.subs(J_2x, 0.001)\n",
    "h=h.subs(J_2z, 0.001)\n",
    "h=h.subs(J_3x, 0.01)\n",
    "h=h.subs(J_3y, 0.01)\n",
    "h=h.subs(J_3y, 0.01)\n",
    "h=h.subs(J_3z, 0.01)\n",
    "h=h.subs(m, 1.0)\n",
    "h=h.subs(r, 2.0)\n",
    "h=h.subs(g, 9.81)"
   ]
  },
  {
   "cell_type": "code",
   "execution_count": 13,
   "id": "483b8af0",
   "metadata": {},
   "outputs": [
    {
     "data": {
      "text/latex": [
       "$\\displaystyle \\left[\\begin{matrix}\\frac{- 39.24 \\sin{\\left(q_{1} \\right)} + 0.01 \\sin{\\left(2 q_{2} \\right)} \\dot{q}_{1} \\dot{q}_{2} + 0.02 \\cos{\\left(q_{2} \\right)} \\dot{q}_{2} \\dot{q}_{3}}{2 \\left(0.01 \\cos^{2}{\\left(q_{2} \\right)} + 4.501\\right)}\\\\90.9090909090909 \\tau_{2} - 0.909090909090909 \\cos{\\left(q_{2} \\right)} \\dot{q}_{1} \\dot{q}_{3}\\end{matrix}\\right]$"
      ],
      "text/plain": [
       "⎡-39.24⋅sin(q₁) + 0.01⋅sin(2⋅q₂)⋅q₁̇⋅q₂̇ + 0.02⋅cos(q₂)⋅q₂̇⋅q₃̇⎤\n",
       "⎢──────────────────────────────────────────────────────────⎥\n",
       "⎢                  ⎛        2            ⎞                 ⎥\n",
       "⎢                2⋅⎝0.01⋅cos (q₂) + 4.501⎠                 ⎥\n",
       "⎢                                                          ⎥\n",
       "⎣  90.9090909090909⋅τ₂ - 0.909090909090909⋅cos(q₂)⋅q₁̇⋅q₃̇   ⎦"
      ]
     },
     "execution_count": 13,
     "metadata": {},
     "output_type": "execute_result"
    }
   ],
   "source": [
    "h"
   ]
  },
  {
   "cell_type": "code",
   "execution_count": 14,
   "id": "e87b9986",
   "metadata": {},
   "outputs": [
    {
     "name": "stdout",
     "output_type": "stream",
     "text": [
      "(-39.24*sin(q1) + 0.01*sin(2*q2)*q1'*q2' + 0.02*cos(q2)*q2'*q3')/(2*(0.01*cos(q2)**2 + 4.501))\n",
      "90.9090909090909*tau2 - 0.909090909090909*cos(q2)*q1'*q3'\n"
     ]
    }
   ],
   "source": [
    "h[0]\n",
    "mechanics.mprint(h[0])\n",
    "mechanics.mprint(h[1])"
   ]
  },
  {
   "cell_type": "code",
   "execution_count": 17,
   "id": "18c59bb6",
   "metadata": {},
   "outputs": [
    {
     "name": "stdout",
     "output_type": "stream",
     "text": [
      "[[   0.            0.            1.            0.        ]\n",
      " [   0.            0.            0.            1.        ]\n",
      " [  -4.34936821    0.            0.            2.21680337]\n",
      " [   0.            0.         -909.09090909    0.        ]]\n",
      "[[ 0.        ]\n",
      " [ 0.        ]\n",
      " [ 0.        ]\n",
      " [90.90909091]]\n"
     ]
    },
    {
     "data": {
      "text/latex": [
       "$\\displaystyle \\left[\\begin{matrix}v_{1}\\\\v_{2}\\\\\\frac{0.01 v_{1} v_{2} \\sin{\\left(2 q_{2} \\right)} + 20.0 v_{2} \\cos{\\left(q_{2} \\right)} - 39.24 \\sin{\\left(q_{1} \\right)}}{0.02 \\cos^{2}{\\left(q_{2} \\right)} + 9.002}\\\\90.9090909090909 \\tau - 909.090909090909 v_{1} \\cos{\\left(q_{2} \\right)}\\end{matrix}\\right]$"
      ],
      "text/plain": [
       "⎡                          v₁                          ⎤\n",
       "⎢                                                      ⎥\n",
       "⎢                          v₂                          ⎥\n",
       "⎢                                                      ⎥\n",
       "⎢0.01⋅v₁⋅v₂⋅sin(2⋅q₂) + 20.0⋅v₂⋅cos(q₂) - 39.24⋅sin(q₁)⎥\n",
       "⎢──────────────────────────────────────────────────────⎥\n",
       "⎢                        2                             ⎥\n",
       "⎢                0.02⋅cos (q₂) + 9.002                 ⎥\n",
       "⎢                                                      ⎥\n",
       "⎣   90.9090909090909⋅τ - 909.090909090909⋅v₁⋅cos(q₂)   ⎦"
      ]
     },
     "execution_count": 17,
     "metadata": {},
     "output_type": "execute_result"
    }
   ],
   "source": [
    "v3 = 1000\n",
    "q1,q2,v1,v2,tau = sym.symbols('q1,q2,v1,v2,tau')\n",
    "f = sym.Matrix([v1,v2,((-39.24*sym.sin(q1) + 0.01*sym.sin(2*q2)*v1*v2 + 0.02*sym.cos(q2)*v2*v3)/(2*(0.01*sym.cos(q2)**2 + 4.501))),(90.9090909090909*tau - 0.909090909090909*sym.cos(q2)*v1*v3)])\n",
    "\n",
    "q1_e = 2*np.pi\n",
    "q2_e = 0.\n",
    "v1_e = 0.\n",
    "v2_e = 0.\n",
    "tau_e = 0.\n",
    "\n",
    "f1_num = sym.lambdify([q1,q2,v1,v2,tau],f)\n",
    "f1_num(q1_e, q2_e, v1_e, v2_e, tau_e)\n",
    "A_num = sym.lambdify((q1,q2,v1,v2,tau), f.jacobian([q1,q2,v1,v2]))\n",
    "A=A_num(q1_e, q2_e, v1_e, v2_e, tau_e)\n",
    "\n",
    "B_num = sym.lambdify([q1,q2,v1,v2,tau], f.jacobian([tau]),'numpy')\n",
    "B=B_num(q1_e, q2_e, v1_e, v2_e, tau_e)\n",
    "print(A)\n",
    "print(B)\n",
    "f"
   ]
  },
  {
   "cell_type": "code",
   "execution_count": null,
   "id": "c8fcf3be",
   "metadata": {},
   "outputs": [],
   "source": []
  },
  {
   "cell_type": "code",
   "execution_count": null,
   "id": "eae66756",
   "metadata": {},
   "outputs": [],
   "source": []
  },
  {
   "cell_type": "code",
   "execution_count": 16,
   "id": "electoral-hotel",
   "metadata": {},
   "outputs": [
    {
     "name": "stdout",
     "output_type": "stream",
     "text": [
      "\\left[\\begin{matrix}0\\\\0\\\\\\dot{q}_{1}\\end{matrix}\\right]\n"
     ]
    }
   ],
   "source": [
    "print(f'{mechanics.mlatex(w1)}')"
   ]
  }
 ],
 "metadata": {
  "kernelspec": {
   "display_name": "Python 3 (ipykernel)",
   "language": "python",
   "name": "python3"
  },
  "language_info": {
   "codemirror_mode": {
    "name": "ipython",
    "version": 3
   },
   "file_extension": ".py",
   "mimetype": "text/x-python",
   "name": "python",
   "nbconvert_exporter": "python",
   "pygments_lexer": "ipython3",
   "version": "3.10.2"
  }
 },
 "nbformat": 4,
 "nbformat_minor": 5
}
