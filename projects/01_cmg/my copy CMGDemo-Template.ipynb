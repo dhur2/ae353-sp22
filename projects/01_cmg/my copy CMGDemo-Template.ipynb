{
 "cells": [
  {
   "cell_type": "markdown",
   "id": "middle-acoustic",
   "metadata": {},
   "source": [
    "# Control moment gyroscope"
   ]
  },
  {
   "cell_type": "markdown",
   "id": "working-minority",
   "metadata": {},
   "source": [
    "Import modules and configure the notebook."
   ]
  },
  {
   "cell_type": "code",
   "execution_count": 1,
   "id": "dimensional-contamination",
   "metadata": {},
   "outputs": [
    {
     "data": {
      "text/plain": [
       "<module 'ae353_cmg' from 'C:\\\\Users\\\\david\\\\Documents\\\\uiuc\\\\ae353\\\\ae353-sp22\\\\projects\\\\01_cmg\\\\ae353_cmg.py'>"
      ]
     },
     "execution_count": 1,
     "metadata": {},
     "output_type": "execute_result"
    }
   ],
   "source": [
    "# This module is part of the python standard library\n",
    "import time\n",
    "\n",
    "# These modules are part of other existing libraries\n",
    "import numpy as np\n",
    "import matplotlib.pyplot as plt\n",
    "import sympy as sym\n",
    "\n",
    "# This is my own script (it is an interface to the pybullet simulator)\n",
    "import ae353_cmg\n",
    "\n",
    "# I often go back and forth between making changes to my scripts and to\n",
    "# the notebook in which they are used. One \"gotcha\" is that notebooks only\n",
    "# import modules or scripts ONCE. Subsequent imports don't do anything, and\n",
    "# in particular won't reflect any changes I've made to my scripts. To make\n",
    "# sure that I'm working with the latest version of my code, I use this bit\n",
    "# of magic, which forces the notebook to \"reload\" my script:\n",
    "import importlib\n",
    "importlib.reload(ae353_cmg)"
   ]
  },
  {
   "cell_type": "markdown",
   "id": "protective-retreat",
   "metadata": {},
   "source": [
    "Create an instance of the `Simulator` class, which is an interface to the [pybullet](http://pybullet.org) simulation engine.\n",
    "\n",
    "There are several optional arguments:\n",
    "\n",
    "* `display` (`True` or `False`) is whether or not to show the simulation window;\n",
    "* `damping` (a non-negative floating-point number, default `0.`) is the coefficient of viscous friction at each joint;\n",
    "* `load_mass` (a non-negative floating-point number, default `1.`) is the mass of the sphere attached to the platform;\n",
    "* `roll` (an angle in radians, default `np.pi / 2`) is the roll angle of the ground.\n",
    "\n",
    "**You must evaluate this cell only *once*.** If you want to start fresh with a new simulator, you must do `Kernel -> Restart` from the notebook menu first. If you evaluate this cell more than once without a call to `Kernel -> Restart` then you may get strange behavior that is hard to debug."
   ]
  },
  {
   "cell_type": "code",
   "execution_count": 2,
   "id": "placed-messenger",
   "metadata": {},
   "outputs": [],
   "source": [
    "simulator = ae353_cmg.Simulator(\n",
    "    display=True,\n",
    "    damping=0.,\n",
    "    load_mass=1.,\n",
    "    roll=(np.pi / 2),\n",
    ")"
   ]
  },
  {
   "cell_type": "markdown",
   "id": "3f9ebffb",
   "metadata": {},
   "source": [
    "Define a controller that maps sensor measurements to actuator commands. By default, it chooses to apply zero torque to the gimbal. Modify the `run` function to make the controller behave differently."
   ]
  },
  {
   "cell_type": "code",
   "execution_count": 3,
   "id": "bf439d71",
   "metadata": {},
   "outputs": [
    {
     "name": "stdout",
     "output_type": "stream",
     "text": [
      "[[   0.            0.            1.            0.        ]\n",
      " [   0.            0.            0.            1.        ]\n",
      " [  -4.34936821    0.            0.            2.21680337]\n",
      " [   0.            0.         -909.09090909    0.        ]]\n",
      "[[ 0.        ]\n",
      " [ 0.        ]\n",
      " [ 0.        ]\n",
      " [90.90909091]]\n"
     ]
    }
   ],
   "source": [
    "\n",
    "#find the A and B\n",
    "v3 = 1000\n",
    "q1,q2,v1,v2,tau = sym.symbols('q1,q2,v1,v2,tau')\n",
    "f = sym.Matrix([v1,v2,((-39.24*sym.sin(q1) + 0.01*sym.sin(2*q2)*v1*v2 + 0.02*sym.cos(q2)*v2*v3)/(2*(0.01*sym.cos(q2)**2 + 4.501))),(90.9090909090909*tau - 0.909090909090909*sym.cos(q2)*v1*v3)])\n",
    "\n",
    "q1_e = 2*np.pi\n",
    "q2_e = 0.\n",
    "v1_e = 0.\n",
    "v2_e = 0.\n",
    "tau_e = 0.\n",
    "\n",
    "f1_num = sym.lambdify([q1,q2,v1,v2,tau],f)\n",
    "f1_num(q1_e, q2_e, v1_e, v2_e, tau_e)\n",
    "A_num = sym.lambdify((q1,q2,v1,v2,tau), f.jacobian([q1,q2,v1,v2]))\n",
    "A=A_num(q1_e, q2_e, v1_e, v2_e, tau_e)\n",
    "\n",
    "B_num = sym.lambdify([q1,q2,v1,v2,tau], f.jacobian([tau]),'numpy')\n",
    "B=B_num(q1_e, q2_e, v1_e, v2_e, tau_e)\n",
    "print(A)\n",
    "print(B)\n",
    "\n",
    "\n",
    "class Controller:\n",
    "    def __init__(self, K, q1_e, q2_e, v1_e, v2_e, tau_e):\n",
    "        self.K = K\n",
    "        self. q1_e = q1_e\n",
    "        self. q2_e = q2_e\n",
    "        self. v1_e = v1_e\n",
    "        self. v2_e = v2_e\n",
    "        self. tau_e = tau_e\n",
    "    \n",
    "    def reset(self):\n",
    "        pass\n",
    "    \n",
    "    def run(\n",
    "            self,\n",
    "            t,\n",
    "            platform_angle,\n",
    "            platform_velocity,\n",
    "            gimbal_angle,\n",
    "            gimbal_velocity,\n",
    "            rotor_velocity\n",
    "        ):\n",
    "        \n",
    "        #Find state\n",
    "        x = np.array([platform_angle - self.q1_e, \n",
    "                      platform_velocity - self.v1_e, \n",
    "                     gimbal_angle -self.q2_e, \n",
    "                     gimbal_velocity - self.v2_e, \n",
    "                     ])\n",
    "        #Find input\n",
    "        u = -self.K@x\n",
    "        # FIXME: replace the following line\n",
    "        gimbal_torque = 2\n",
    "        \n",
    "        return gimbal_torque"
   ]
  },
  {
   "cell_type": "markdown",
   "id": "40059b98",
   "metadata": {},
   "source": [
    "Create an instance of the controller."
   ]
  },
  {
   "cell_type": "code",
   "execution_count": 4,
   "id": "1168ff65",
   "metadata": {},
   "outputs": [
    {
     "ename": "TypeError",
     "evalue": "__init__() missing 6 required positional arguments: 'K', 'q1_e', 'q2_e', 'v1_e', 'v2_e', and 'tau_e'",
     "output_type": "error",
     "traceback": [
      "\u001b[1;31m---------------------------------------------------------------------------\u001b[0m",
      "\u001b[1;31mTypeError\u001b[0m                                 Traceback (most recent call last)",
      "\u001b[1;32m~\\AppData\\Local\\Temp/ipykernel_21560/4143575978.py\u001b[0m in \u001b[0;36m<module>\u001b[1;34m\u001b[0m\n\u001b[1;32m----> 1\u001b[1;33m \u001b[0mcontroller\u001b[0m \u001b[1;33m=\u001b[0m \u001b[0mController\u001b[0m\u001b[1;33m(\u001b[0m\u001b[1;33m)\u001b[0m\u001b[1;33m\u001b[0m\u001b[1;33m\u001b[0m\u001b[0m\n\u001b[0m",
      "\u001b[1;31mTypeError\u001b[0m: __init__() missing 6 required positional arguments: 'K', 'q1_e', 'q2_e', 'v1_e', 'v2_e', and 'tau_e'"
     ]
    }
   ],
   "source": [
    "controller = Controller()"
   ]
  },
  {
   "cell_type": "markdown",
   "id": "19c52b8d",
   "metadata": {},
   "source": [
    "Reset the simulator with given initial conditions. A low-level controller (separate from yours) will try to ensure that the rotor velocity remains constant."
   ]
  },
  {
   "cell_type": "code",
   "execution_count": null,
   "id": "e9fc6510",
   "metadata": {},
   "outputs": [],
   "source": [
    "simulator.reset(\n",
    "    platform_angle=0.,\n",
    "    platform_velocity=0.,\n",
    "    gimbal_angle=0.,\n",
    "    gimbal_velocity=0.,\n",
    "    rotor_velocity=1000.,\n",
    ")"
   ]
  },
  {
   "cell_type": "markdown",
   "id": "a0c7b67a",
   "metadata": {},
   "source": [
    "Reset the controller."
   ]
  },
  {
   "cell_type": "code",
   "execution_count": null,
   "id": "d169e3c4",
   "metadata": {},
   "outputs": [],
   "source": [
    "controller.reset()"
   ]
  },
  {
   "cell_type": "markdown",
   "id": "f066f745",
   "metadata": {},
   "source": [
    "Choose a camera view (could be `simulator.camera_topview()` or `simulator.camera_sideview()`)."
   ]
  },
  {
   "cell_type": "code",
   "execution_count": null,
   "id": "1c874bd1",
   "metadata": {},
   "outputs": [],
   "source": [
    "simulator.camera_sideview()"
   ]
  },
  {
   "cell_type": "markdown",
   "id": "5cb3dacd",
   "metadata": {},
   "source": [
    "Run the simulator."
   ]
  },
  {
   "cell_type": "code",
   "execution_count": null,
   "id": "8e649e63",
   "metadata": {},
   "outputs": [],
   "source": [
    "data = simulator.run(\n",
    "    controller,           # <-- required (an instance of your Controller class)\n",
    "    max_time=10.0,         # <-- optional (how long you want to run the simulation in seconds)\n",
    "    data_filename=None,   # <-- optional (name of file to which you want data saved, e.g., 'my_data.json')\n",
    "    video_filename=None,  # <-- optional (name of file to which you want video saved, e.g., 'my_video.mov')\n",
    ")"
   ]
  },
  {
   "cell_type": "markdown",
   "id": "c3e2d2d7",
   "metadata": {},
   "source": [
    "Get, show, and save a snapshot of the simulation after the last time step."
   ]
  },
  {
   "cell_type": "code",
   "execution_count": null,
   "id": "7657f10b",
   "metadata": {},
   "outputs": [],
   "source": [
    "# Get snapshot as height x width x 4 numpy array of RGBA values\n",
    "rgba = simulator.snapshot()\n",
    "\n",
    "# Display snapshot\n",
    "plt.figure(figsize=(8, 8))\n",
    "plt.imshow(rgba)\n",
    "\n",
    "# Save snapshot\n",
    "plt.imsave('my_snapshot.png', rgba)"
   ]
  },
  {
   "cell_type": "markdown",
   "id": "38a9c4a6",
   "metadata": {},
   "source": [
    "Plot the results."
   ]
  },
  {
   "cell_type": "code",
   "execution_count": null,
   "id": "0cce775b",
   "metadata": {},
   "outputs": [],
   "source": [
    "# Create a figure with three subplots, all of which share the same x-axis\n",
    "fig, (ax_platform, ax_gimbal, ax_rotor, ax_torque) = plt.subplots(4, 1, figsize=(8, 8), sharex=True)\n",
    "\n",
    "# Plot platform angle and velocity\n",
    "ax_platform.plot(\n",
    "    data['t'], data['platform_angle'],\n",
    "    label='platform angle (rad)', linewidth=4,\n",
    ")\n",
    "ax_platform.plot(\n",
    "    data['t'], data['platform_velocity'],\n",
    "    '--', label='platform velocity (rad / s)', linewidth=4,\n",
    ")\n",
    "ax_platform.grid()\n",
    "ax_platform.legend(fontsize=16)\n",
    "ax_platform.tick_params(labelsize=14)\n",
    "\n",
    "# Plot gimbal angle and velocity\n",
    "ax_gimbal.plot(\n",
    "    data['t'], data['gimbal_angle'],\n",
    "    label='gimbal angle (rad)', linewidth=4,\n",
    ")\n",
    "ax_gimbal.plot(\n",
    "    data['t'], data['gimbal_velocity'],\n",
    "    '--', label='gimbal velocity (rad / s)', linewidth=4,\n",
    ")\n",
    "ax_gimbal.grid()\n",
    "ax_gimbal.legend(fontsize=16)\n",
    "ax_gimbal.tick_params(labelsize=14)\n",
    "\n",
    "# Plot rotor velocity\n",
    "ax_rotor.plot(\n",
    "    data['t'], data['rotor_velocity'],\n",
    "    '--', label='rotor velocity (rad / s)', linewidth=4,\n",
    ")\n",
    "ax_rotor.grid()\n",
    "ax_rotor.legend(fontsize=16)\n",
    "ax_rotor.tick_params(labelsize=14)\n",
    "ax_rotor.set_ylim(simulator.rotor_velocity - 10., simulator.rotor_velocity + 10.)\n",
    "\n",
    "# Plot torques\n",
    "ax_torque.plot(\n",
    "    data['t'], data['gimbal_torque_command'],\n",
    "    label='gimbal torque command (N-m)', linewidth=4,\n",
    ")\n",
    "ax_torque.plot(\n",
    "    data['t'], data['gimbal_torque'],\n",
    "    '--', label='gimbal torque (N-m)', linewidth=4,\n",
    ")\n",
    "ax_torque.plot(\n",
    "    data['t'], data['rotor_torque'],\n",
    "    '--', label='rotor torque (N-m)', linewidth=4,\n",
    ")\n",
    "ax_torque.plot(\n",
    "    data['t'], np.ones_like(data['t']) * simulator.tau_max,\n",
    "    ':', label='max torque', linewidth=4, color='C4', zorder=0,\n",
    ")\n",
    "ax_torque.plot(\n",
    "    data['t'], -np.ones_like(data['t']) * simulator.tau_max,\n",
    "    ':', linewidth=4, color='C4', zorder=0,\n",
    ")\n",
    "ax_torque.grid()\n",
    "ax_torque.legend(fontsize=16)\n",
    "ax_torque.tick_params(labelsize=14)\n",
    "\n",
    "# Set x-axis properties (only need to do this on the last\n",
    "# subplot since all subplots share the same x-axis)\n",
    "ax_torque.set_xlabel('time (s)', fontsize=20)\n",
    "ax_torque.set_xlim([data['t'][0], data['t'][-1]])\n",
    "ax_torque.set_ylim(-1.2 * simulator.tau_max, 1.2 * simulator.tau_max)\n",
    "\n",
    "# Make the arrangement of subplots look nice\n",
    "fig.tight_layout()"
   ]
  },
  {
   "cell_type": "markdown",
   "id": "520822de",
   "metadata": {},
   "source": [
    "Save the figure (without transparent background)."
   ]
  },
  {
   "cell_type": "code",
   "execution_count": null,
   "id": "3ce3e7cd",
   "metadata": {},
   "outputs": [],
   "source": [
    "fig.savefig('my_figure.png', facecolor='white', transparent=False)"
   ]
  }
 ],
 "metadata": {
  "kernelspec": {
   "display_name": "Python 3 (ipykernel)",
   "language": "python",
   "name": "python3"
  },
  "language_info": {
   "codemirror_mode": {
    "name": "ipython",
    "version": 3
   },
   "file_extension": ".py",
   "mimetype": "text/x-python",
   "name": "python",
   "nbconvert_exporter": "python",
   "pygments_lexer": "ipython3",
   "version": "3.10.2"
  }
 },
 "nbformat": 4,
 "nbformat_minor": 5
}
