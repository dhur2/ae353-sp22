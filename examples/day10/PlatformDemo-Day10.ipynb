{
 "cells": [
  {
   "cell_type": "markdown",
   "id": "middle-acoustic",
   "metadata": {},
   "source": [
    "# Control of platform angle and wheel velocity with gravity"
   ]
  },
  {
   "cell_type": "markdown",
   "id": "90a3378b",
   "metadata": {},
   "source": [
    "Do all imports:"
   ]
  },
  {
   "cell_type": "code",
   "execution_count": null,
   "id": "dimensional-contamination",
   "metadata": {},
   "outputs": [],
   "source": [
    "# Stuff for computation\n",
    "import numpy as np\n",
    "import sympy as sym\n",
    "from scipy import linalg\n",
    "\n",
    "# Stuff for visualization\n",
    "from ipywidgets import interact\n",
    "from bokeh.io import push_notebook, show, output_notebook\n",
    "from bokeh.layouts import column, row\n",
    "from bokeh.plotting import figure\n",
    "from bokeh.models import PreText"
   ]
  },
  {
   "cell_type": "markdown",
   "id": "d740db6e",
   "metadata": {},
   "source": [
    "[Display Bokeh plots inline](https://docs.bokeh.org/en/latest/docs/user_guide/jupyter.html#classic-notebooks):"
   ]
  },
  {
   "cell_type": "code",
   "execution_count": null,
   "id": "4501f868",
   "metadata": {},
   "outputs": [],
   "source": [
    "output_notebook()"
   ]
  },
  {
   "cell_type": "markdown",
   "id": "ebdbb501",
   "metadata": {},
   "source": [
    "Suppress the use of scientific notation when printing small numbers:"
   ]
  },
  {
   "cell_type": "code",
   "execution_count": null,
   "id": "61943473",
   "metadata": {},
   "outputs": [],
   "source": [
    "np.set_printoptions(suppress=True)"
   ]
  },
  {
   "cell_type": "markdown",
   "id": "6efc62f7",
   "metadata": {},
   "source": [
    "The equations of motion are\n",
    "\n",
    "$$\n",
    "\\begin{aligned}\n",
    "J_1 \\ddot{q}_1 &= \\tau - m_wgl\\sin(q_1) \\\\\n",
    "J_2 \\dot{v}_2 &= - \\left( \\dfrac{J_1 + J_2}{J_1} \\right) \\tau + \\left( \\dfrac{J_2}{J_1} \\right) m_wgl\\sin(q_1)\n",
    "\\end{aligned}\n",
    "$$\n",
    "\n",
    "where\n",
    "\n",
    "* $q_1$ is the platform angle\n",
    "* $\\dot{q}_1$ is the platform velocity\n",
    "* $v_2$ is the wheel velocity\n",
    "* $\\tau$ is the torque applied *to* the platform *by* the wheel\n",
    "\n",
    "and\n",
    "\n",
    "$$\n",
    "J_1 = J_p + m_wl^2\n",
    "\\qquad\n",
    "\\qquad\n",
    "J_2 = J_w\n",
    "$$\n",
    "\n",
    "where parameters are as follows:"
   ]
  },
  {
   "cell_type": "code",
   "execution_count": null,
   "id": "312d4070",
   "metadata": {},
   "outputs": [],
   "source": [
    "# distance from platform axis to wheel axis\n",
    "l = 1.\n",
    "\n",
    "# radius of wheel\n",
    "rw = 0.5\n",
    "\n",
    "# mass of wheel\n",
    "mw = 0.25\n",
    "\n",
    "# moi of wheel\n",
    "Jw = 0.5 * mw * rw**2\n",
    "\n",
    "# mass of platform\n",
    "mp = 12. * (1. - mw * l**2) / (3.**2 + 2.**2)\n",
    "\n",
    "# moment of inertia of platform\n",
    "Jp = (1. / 12.) * mp * (3.**2 + 2.**2)\n",
    "\n",
    "# gravity\n",
    "g = 9.81\n",
    "\n",
    "# composite parameters\n",
    "J1 = Jp + mw * l**2\n",
    "J2 = Jw"
   ]
  },
  {
   "cell_type": "markdown",
   "id": "8604b0bd",
   "metadata": {},
   "source": [
    "Define a function to linearize these equations of motion about some choice of equilibrium point and return a state-space model:"
   ]
  },
  {
   "cell_type": "code",
   "execution_count": null,
   "id": "c8aa2151",
   "metadata": {},
   "outputs": [],
   "source": [
    "# Define a function to return a state-space model for a given choice of equilibrium point.\n",
    "def get_model(q1e, v1e, v2e, taue):\n",
    "    # Define variables\n",
    "    q1, v1, v2, tau = sym.symbols('q1, v1, v2, tau')\n",
    "    \n",
    "    # Define right-hand side of ODEs\n",
    "    f = sym.Matrix([\n",
    "        v1,\n",
    "        (1 / J1) * (tau - mw * g * l * sym.sin(q1)),\n",
    "        (1 / J2) * (- ((J1 + J2) / J1) * tau + (J2 / J1) * mw * g * l * sym.sin(q1))\n",
    "    ])\n",
    "\n",
    "    # Convert floating-point to rational numbers\n",
    "    f = sym.nsimplify(f, rational=True)\n",
    "    \n",
    "    # Verify equilibrium point\n",
    "    f_num = sym.lambdify([q1, v1, v2, tau], f)\n",
    "    if not np.allclose(f_num(q1e, v1e, v2e, taue), 0.):\n",
    "        raise Exception('equilibrium point is invalid')\n",
    "    \n",
    "    # Find A and B in symbolic form\n",
    "    A_sym = f.jacobian([q1, v1, v2])\n",
    "    B_sym = f.jacobian([tau])\n",
    "\n",
    "    # Create lambda functions to allow numerical evaluation of A and B\n",
    "    A_num = sym.lambdify([q1, v1, v2, tau], A_sym)\n",
    "    B_num = sym.lambdify([q1, v1, v2, tau], B_sym)\n",
    "\n",
    "    # Find A and B in numeric form (making sure the result is floating-point)\n",
    "    A = A_num(q1e, v1e, v2e, taue).astype(float)\n",
    "    B = B_num(q1e, v1e, v2e, taue).astype(float)\n",
    "\n",
    "    # Return A and B\n",
    "    return A, B"
   ]
  },
  {
   "cell_type": "markdown",
   "id": "86cd8cfd",
   "metadata": {},
   "source": [
    "Visualize the result of applying linear state feedback:"
   ]
  },
  {
   "cell_type": "code",
   "execution_count": null,
   "id": "5cd93dd4",
   "metadata": {},
   "outputs": [],
   "source": [
    "(q1e, v1e, v2e, taue) = (np.pi, 0., 0., 0.) # <-- EQUILIBRIUM POINT\n",
    "A, B = get_model(q1e, v1e, v2e, taue)\n",
    "(t0, t1, dt) = (0., 5., 0.05)\n",
    "nt = int(1 + np.ceil((t1 - t0) / dt))\n",
    "x0 = np.array([1., 0., 0.])\n",
    "t = np.linspace(t0, t1, nt)\n",
    "x = np.zeros((101, 3))\n",
    "\n",
    "def update(k1=0, k2=0, k3=0):\n",
    "    # Get closed-loop eigenvalues\n",
    "    K = np.array([[k1, k2, k3]])\n",
    "    s = linalg.eigvals(A - B @ K)\n",
    "    s_plt.data_source.data['x'] = s.real\n",
    "    s_plt.data_source.data['y'] = s.imag\n",
    "    eigs.text = 'EIGENVALUES:\\n' \\\n",
    "             + f' s1 = {s[0]:12.2f}\\n' \\\n",
    "             + f' s2 = {s[1]:12.2f}\\n' \\\n",
    "             + f' s3 = {s[2]:12.2f}'\n",
    "    code.text = 'CONTROLLER:\\n' \\\n",
    "             + f' q1 = platform_angle\\n' \\\n",
    "             + f' v1 = platform_velocity\\n' \\\n",
    "             + f' v2 = wheel_velocity\\n' \\\n",
    "             + f' wheel_torque = - ({k1:g}) * (q1 - {q1e:.2f})' \\\n",
    "             + f' - ({k2:g}) * (v1 - {v1e:.2f})' \\\n",
    "             + f' - ({k3:g}) * (v2 - {v2e:.2f})' \\\n",
    "    \n",
    "    # Get x(t)\n",
    "    for i in range(len(t)):\n",
    "        x[i] = linalg.expm((A - B @ K) * (t[i] - t0)) @ x0\n",
    "    x1_plt.data_source.data['y'] = x[:, 0]\n",
    "    x2_plt.data_source.data['y'] = x[:, 1]\n",
    "    x3_plt.data_source.data['y'] = x[:, 2]\n",
    "    \n",
    "    # Refresh plots\n",
    "    push_notebook()\n",
    "\n",
    "s_fig = figure(title='closed-loop eigenvalues', height=300, width=300,\n",
    "                x_range=(-15, 5), y_range=(-10, 10))\n",
    "s_plt = s_fig.circle([0, 0, 0], [0, 0, 0], size=5, color='navy', alpha=0.5)\n",
    "x1_fig = figure(title='x1(t)', height=150, width=400,\n",
    "                x_range=(t0, t1), y_range=(-1.5, 1.5))\n",
    "x1_plt = x1_fig.line(t, np.zeros_like(t), line_width=2, line_color='navy')\n",
    "x2_fig = figure(title='x2(t)', height=150, width=400,\n",
    "                x_range=(t0, t1), y_range=(-5, 5))\n",
    "x2_plt = x2_fig.line(t, np.zeros_like(t), line_width=2, line_color='navy')\n",
    "x3_fig = figure(title='x3(t)', height=150, width=400,\n",
    "                x_range=(t0, t1), y_range=(-200, 200))\n",
    "x3_plt = x3_fig.line(t, np.zeros_like(t), line_width=2, line_color='navy')\n",
    "eigs = PreText(text='', width=300, height=100, margin=(50, 0, 0, 50))\n",
    "code = PreText(text='', margin=(20, 0, 0, 20))\n",
    "\n",
    "show(\n",
    "    column(\n",
    "        row(\n",
    "            column(s_fig, eigs),\n",
    "            column(x1_fig, x2_fig, x3_fig)\n",
    "        ),\n",
    "        row(code, sizing_mode='stretch_width'),\n",
    "    ),\n",
    "    notebook_handle=True,\n",
    ")\n",
    "interact(update, k1=(-50, 150), k2=(-25, 75), k3=(-2, 3, 0.01));"
   ]
  },
  {
   "cell_type": "code",
   "execution_count": null,
   "id": "0ca98827",
   "metadata": {},
   "outputs": [],
   "source": []
  }
 ],
 "metadata": {
  "kernelspec": {
   "display_name": "Python 3 (ipykernel)",
   "language": "python",
   "name": "python3"
  },
  "language_info": {
   "codemirror_mode": {
    "name": "ipython",
    "version": 3
   },
   "file_extension": ".py",
   "mimetype": "text/x-python",
   "name": "python",
   "nbconvert_exporter": "python",
   "pygments_lexer": "ipython3",
   "version": "3.10.2"
  }
 },
 "nbformat": 4,
 "nbformat_minor": 5
}
