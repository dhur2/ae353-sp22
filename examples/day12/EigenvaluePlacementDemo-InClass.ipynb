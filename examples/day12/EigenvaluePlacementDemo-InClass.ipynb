{
 "cells": [
  {
   "cell_type": "markdown",
   "id": "9f7012ef",
   "metadata": {},
   "source": [
    "# How to do eigenvalue placement"
   ]
  },
  {
   "cell_type": "markdown",
   "id": "08bf85df",
   "metadata": {},
   "source": [
    "Do all imports:"
   ]
  },
  {
   "cell_type": "code",
   "execution_count": 1,
   "id": "7d9be516",
   "metadata": {},
   "outputs": [],
   "source": [
    "import numpy as np\n",
    "from scipy import linalg\n",
    "from scipy import signal # <-- NEW"
   ]
  },
  {
   "cell_type": "markdown",
   "id": "5ce843e6",
   "metadata": {},
   "source": [
    "Define state-space model:"
   ]
  },
  {
   "cell_type": "code",
   "execution_count": 2,
   "id": "22441774",
   "metadata": {},
   "outputs": [],
   "source": [
    "A = np.array([[0., 1.], [0., 0.]])\n",
    "B = np.array([[0.], [1.]])"
   ]
  },
  {
   "cell_type": "markdown",
   "id": "b7a38388",
   "metadata": {},
   "source": [
    "Choose desired locations of closed-loop eigenvalues:"
   ]
  },
  {
   "cell_type": "code",
   "execution_count": 3,
   "id": "de45131c",
   "metadata": {},
   "outputs": [],
   "source": [
    "p = [-2., -3.]"
   ]
  },
  {
   "cell_type": "markdown",
   "id": "bbebc73c",
   "metadata": {},
   "source": [
    "Choose gain matrix to place closed-loop eigenvalues at desired locations:"
   ]
  },
  {
   "cell_type": "code",
   "execution_count": 4,
   "id": "22ef37ee",
   "metadata": {},
   "outputs": [],
   "source": [
    "stuff = signal.place_poles(A, B, p)"
   ]
  },
  {
   "cell_type": "markdown",
   "id": "7ef94a9d",
   "metadata": {},
   "source": [
    "Use `vars` to look at what is returned by `signal.place_poles`:"
   ]
  },
  {
   "cell_type": "code",
   "execution_count": 5,
   "id": "1718bf72",
   "metadata": {},
   "outputs": [
    {
     "data": {
      "text/plain": [
       "{'gain_matrix': array([[6., 5.]]),\n",
       " 'computed_poles': array([-3., -2.]),\n",
       " 'requested_poles': array([-3., -2.]),\n",
       " 'X': array([[-0.31622777+0.j, -0.4472136 +0.j],\n",
       "        [ 0.9486833 +0.j,  0.89442719+0.j]]),\n",
       " 'rtol': 0,\n",
       " 'nb_iter': 0}"
      ]
     },
     "execution_count": 5,
     "metadata": {},
     "output_type": "execute_result"
    }
   ],
   "source": [
    "vars(stuff)"
   ]
  },
  {
   "cell_type": "markdown",
   "id": "76b0ab42",
   "metadata": {},
   "source": [
    "Extract and show the gain matrix:"
   ]
  },
  {
   "cell_type": "code",
   "execution_count": 9,
   "id": "da3fad8e",
   "metadata": {},
   "outputs": [
    {
     "name": "stdout",
     "output_type": "stream",
     "text": [
      "[[6. 5.]]\n"
     ]
    }
   ],
   "source": [
    "K = stuff.gain_matrix\n",
    "\n",
    "print(K)"
   ]
  },
  {
   "cell_type": "markdown",
   "id": "d52b4f60",
   "metadata": {},
   "source": [
    "Get the gain matrix in one line if we want:"
   ]
  },
  {
   "cell_type": "code",
   "execution_count": 11,
   "id": "f2e62488",
   "metadata": {},
   "outputs": [
    {
     "name": "stdout",
     "output_type": "stream",
     "text": [
      "[[6. 5.]]\n"
     ]
    }
   ],
   "source": [
    "K = signal.place_poles(A, B, p).gain_matrix\n",
    "\n",
    "print(K)"
   ]
  },
  {
   "cell_type": "markdown",
   "id": "61935778",
   "metadata": {},
   "source": [
    "Verify that the gain matrix puts eigenvalues in desired locations:"
   ]
  },
  {
   "cell_type": "code",
   "execution_count": 12,
   "id": "cb1e5ce4",
   "metadata": {},
   "outputs": [
    {
     "name": "stdout",
     "output_type": "stream",
     "text": [
      "[-2.+0.j -3.+0.j]\n"
     ]
    }
   ],
   "source": [
    "print(linalg.eigvals(A - B @ K))"
   ]
  },
  {
   "cell_type": "markdown",
   "id": "74da1c52",
   "metadata": {},
   "source": [
    "Ask for eigenvalues with non-zero imaginary part:"
   ]
  },
  {
   "cell_type": "code",
   "execution_count": 13,
   "id": "03e844ed",
   "metadata": {},
   "outputs": [
    {
     "name": "stdout",
     "output_type": "stream",
     "text": [
      "[[34. 10.]]\n"
     ]
    }
   ],
   "source": [
    "K = signal.place_poles(A, B, [-5. + 3. * 1j, -5. - 3. * 1j]).gain_matrix\n",
    "\n",
    "print(K)"
   ]
  },
  {
   "cell_type": "code",
   "execution_count": 14,
   "id": "743f260c",
   "metadata": {},
   "outputs": [
    {
     "name": "stdout",
     "output_type": "stream",
     "text": [
      "[-5.+3.j -5.-3.j]\n"
     ]
    }
   ],
   "source": [
    "print(linalg.eigvals(A - B @ K))"
   ]
  },
  {
   "cell_type": "code",
   "execution_count": null,
   "id": "ec7726a4",
   "metadata": {},
   "outputs": [],
   "source": []
  }
 ],
 "metadata": {
  "kernelspec": {
   "display_name": "Python 3 (ipykernel)",
   "language": "python",
   "name": "python3"
  },
  "language_info": {
   "codemirror_mode": {
    "name": "ipython",
    "version": 3
   },
   "file_extension": ".py",
   "mimetype": "text/x-python",
   "name": "python",
   "nbconvert_exporter": "python",
   "pygments_lexer": "ipython3",
   "version": "3.10.2"
  }
 },
 "nbformat": 4,
 "nbformat_minor": 5
}
