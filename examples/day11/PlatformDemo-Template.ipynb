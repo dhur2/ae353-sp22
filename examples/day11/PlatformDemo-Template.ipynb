{
 "cells": [
  {
   "cell_type": "markdown",
   "id": "89bbc75e",
   "metadata": {},
   "source": [
    "# Control of platform angle and wheel velocity with gravity"
   ]
  },
  {
   "cell_type": "markdown",
   "id": "90a3378b",
   "metadata": {},
   "source": [
    "Do all imports:"
   ]
  },
  {
   "cell_type": "code",
   "execution_count": null,
   "id": "dimensional-contamination",
   "metadata": {},
   "outputs": [],
   "source": [
    "import numpy as np\n",
    "import sympy as sym\n",
    "from scipy import linalg\n",
    "import matplotlib.pyplot as plt\n",
    "import ae353_platform"
   ]
  },
  {
   "cell_type": "markdown",
   "id": "ebdbb501",
   "metadata": {},
   "source": [
    "Suppress the use of scientific notation when printing small numbers:"
   ]
  },
  {
   "cell_type": "code",
   "execution_count": null,
   "id": "61943473",
   "metadata": {},
   "outputs": [],
   "source": [
    "np.set_printoptions(suppress=True)"
   ]
  },
  {
   "cell_type": "markdown",
   "id": "76c8ffb4",
   "metadata": {},
   "source": [
    "Create an instance of the simulator (do `Kernel -> Restart` before evaluating this cell)."
   ]
  },
  {
   "cell_type": "code",
   "execution_count": null,
   "id": "a8bf4f05",
   "metadata": {},
   "outputs": [],
   "source": [
    "simulator = ae353_platform.Simulator(\n",
    "    display=False,\n",
    "    roll=(np.pi / 2),\n",
    "    tau_max=1.\n",
    ")"
   ]
  },
  {
   "cell_type": "markdown",
   "id": "6efc62f7",
   "metadata": {},
   "source": [
    "The equations of motion are\n",
    "\n",
    "$$\n",
    "\\begin{aligned}\n",
    "J_1 \\ddot{q}_1 &= \\tau - m_wgl\\sin(q_1) \\\\\n",
    "J_2 \\dot{v}_2 &= - \\left( \\dfrac{J_1 + J_2}{J_1} \\right) \\tau + \\left( \\dfrac{J_2}{J_1} \\right) m_wgl\\sin(q_1)\n",
    "\\end{aligned}\n",
    "$$\n",
    "\n",
    "where\n",
    "\n",
    "* $q_1$ is the platform angle\n",
    "* $\\dot{q}_1$ is the platform velocity\n",
    "* $v_2$ is the wheel velocity\n",
    "* $\\tau$ is the torque applied *to* the platform *by* the wheel\n",
    "\n",
    "and\n",
    "\n",
    "$$\n",
    "J_1 = J_p + m_wl^2\n",
    "\\qquad\n",
    "\\qquad\n",
    "J_2 = J_w\n",
    "$$\n",
    "\n",
    "where parameters are as follows:"
   ]
  },
  {
   "cell_type": "code",
   "execution_count": null,
   "id": "312d4070",
   "metadata": {},
   "outputs": [],
   "source": [
    "# distance from platform axis to wheel axis\n",
    "l = 1.\n",
    "\n",
    "# radius of wheel\n",
    "rw = 0.5\n",
    "\n",
    "# mass of wheel\n",
    "mw = 0.25\n",
    "\n",
    "# moi of wheel\n",
    "Jw = 0.5 * mw * rw**2\n",
    "\n",
    "# mass of platform\n",
    "mp = 12. * (1. - mw * l**2) / (3.**2 + 2.**2)\n",
    "\n",
    "# moment of inertia of platform\n",
    "Jp = (1. / 12.) * mp * (3.**2 + 2.**2)\n",
    "\n",
    "# gravity\n",
    "g = 9.81\n",
    "\n",
    "# composite parameters\n",
    "J1 = Jp + mw * l**2\n",
    "J2 = Jw"
   ]
  },
  {
   "cell_type": "markdown",
   "id": "8e3e28b0",
   "metadata": {},
   "source": [
    "Define helper functions for analysis."
   ]
  },
  {
   "cell_type": "code",
   "execution_count": null,
   "id": "2d712336",
   "metadata": {},
   "outputs": [],
   "source": [
    "# Define a function to return a state-space model for a given\n",
    "# choice of equilibrium point. Also return the function f that\n",
    "# defines the original nonlinear ODEs (in numeric form).\n",
    "def get_model(q1e, v1e, v2e, taue):\n",
    "    # Define variables\n",
    "    q1, v1, v2, tau = sym.symbols('q1, v1, v2, tau')\n",
    "    \n",
    "    # Define right-hand side of ODEs\n",
    "    f = sym.Matrix([\n",
    "        v1,\n",
    "        (1 / J1) * (tau - mw * g * l * sym.sin(q1)),\n",
    "        (1 / J2) * (- ((J1 + J2) / J1) * tau + (J2 / J1) * mw * g * l * sym.sin(q1))\n",
    "    ])\n",
    "\n",
    "    # Convert floating-point to rational numbers\n",
    "    f = sym.nsimplify(f, rational=True)\n",
    "    \n",
    "    # Verify equilibrium point\n",
    "    f_num = sym.lambdify([q1, v1, v2, tau], f)\n",
    "    if not np.allclose(f_num(q1e, v1e, v2e, taue), 0.):\n",
    "        raise Exception('equilibrium point is invalid')\n",
    "    \n",
    "    # Find A and B in symbolic form\n",
    "    A_sym = f.jacobian([q1, v1, v2])\n",
    "    B_sym = f.jacobian([tau])\n",
    "\n",
    "    # Create lambda functions to allow numerical evaluation of A and B\n",
    "    A_num = sym.lambdify([q1, v1, v2, tau], A_sym)\n",
    "    B_num = sym.lambdify([q1, v1, v2, tau], B_sym)\n",
    "\n",
    "    # Find A and B in numeric form (making sure the result is floating-point)\n",
    "    A = A_num(q1e, v1e, v2e, taue).astype(float)\n",
    "    B = B_num(q1e, v1e, v2e, taue).astype(float)\n",
    "\n",
    "    # Return A, B, and f (both symbolic and numeric)\n",
    "    return A, B, f, f_num\n",
    "\n",
    "# Define a controller that implements linear state feedback.\n",
    "class Controller:\n",
    "    def __init__(self, K, q1e, v1e, v2e, taue):\n",
    "        self.K = K\n",
    "        self.q1e = q1e\n",
    "        self.v1e = v1e\n",
    "        self.v2e = v2e\n",
    "        self.taue = taue\n",
    "    \n",
    "    def reset(self):\n",
    "        pass\n",
    "    \n",
    "    def run(\n",
    "            self,\n",
    "            t,\n",
    "            platform_angle,\n",
    "            platform_velocity,\n",
    "            wheel_angle,\n",
    "            wheel_velocity,\n",
    "        ):\n",
    "        \n",
    "        # Find state\n",
    "        x = np.array([\n",
    "            platform_angle - self.q1e,\n",
    "            platform_velocity - self.v1e,\n",
    "            wheel_velocity - self.v2e,\n",
    "        ])\n",
    "        \n",
    "        # Find input\n",
    "        u = - self.K @ x\n",
    "        \n",
    "        # Find actuator command\n",
    "        tau = u[0]\n",
    "        \n",
    "        wheel_torque = -tau\n",
    "        return wheel_torque\n",
    "    \n",
    "# Define a function to get data from simulation for a given choice\n",
    "# of equilibrium point, gain matrix, and initial condition.\n",
    "def get_data_from_simulation(simulator, q1e, v1e, v2e, taue, K, q1i, v1i, v2i, max_time=5.0):\n",
    "    # Create controller\n",
    "    controller = Controller(K, q1e, v1e, v2e, taue)\n",
    "    \n",
    "    # Reset simulator\n",
    "    simulator.reset(\n",
    "        platform_angle=q1i,\n",
    "        platform_velocity=v1i,\n",
    "        wheel_angle=0.,\n",
    "        wheel_velocity=v2i,\n",
    "    )\n",
    "\n",
    "    # Reset controller\n",
    "    controller.reset()\n",
    "\n",
    "    # Run simulator\n",
    "    data = simulator.run(\n",
    "        controller,\n",
    "        max_time=max_time,\n",
    "    )\n",
    "    \n",
    "    # Return data\n",
    "    return data\n",
    "\n",
    "# Define a function to find numeric solution to closed-loop (linear) system.\n",
    "def get_data_from_model(data, q1e, v1e, v2e, A, B):\n",
    "    # Define initial conditions\n",
    "    x0 = np.array([\n",
    "        data['platform_angle'][0] - q1e,\n",
    "        data['platform_velocity'][0] - v1e,\n",
    "        data['wheel_velocity'][0] - v2e,\n",
    "    ])\n",
    "\n",
    "    # Get time\n",
    "    t = data['t']\n",
    "    \n",
    "    # Create empty array to hold state at each time\n",
    "    x = np.empty((len(t), 3))\n",
    "    u = np.empty((len(t), 1))\n",
    "\n",
    "    # Compute state at each time\n",
    "    for i in range(len(t)):\n",
    "        x[i] = linalg.expm((A - B @ K) * t[i]) @ x0\n",
    "        u[i] = - K @ x[i]\n",
    "    \n",
    "    # Return state and input at each time\n",
    "    return x, u"
   ]
  },
  {
   "cell_type": "markdown",
   "id": "0fd1b181",
   "metadata": {},
   "source": [
    "## Make a plot to verify linearization"
   ]
  },
  {
   "cell_type": "markdown",
   "id": "66d85db7",
   "metadata": {},
   "source": [
    "Choose equilibrium point."
   ]
  },
  {
   "cell_type": "code",
   "execution_count": null,
   "id": "15cd82c6",
   "metadata": {},
   "outputs": [],
   "source": [
    "(q1e, v1e, v2e, taue) = (np.pi, 0., 0., 0.)"
   ]
  },
  {
   "cell_type": "markdown",
   "id": "e7d8775f",
   "metadata": {},
   "source": [
    "Linearize equations of motion about equilibrium point."
   ]
  },
  {
   "cell_type": "code",
   "execution_count": null,
   "id": "9fed1b4c",
   "metadata": {},
   "outputs": [],
   "source": [
    "A, B, f_sym, f_num = get_model(q1e, v1e, v2e, taue)"
   ]
  },
  {
   "cell_type": "markdown",
   "id": "abe0e965",
   "metadata": {},
   "source": [
    "Show the function $f$:"
   ]
  },
  {
   "cell_type": "code",
   "execution_count": null,
   "id": "53637aef",
   "metadata": {},
   "outputs": [],
   "source": [
    "f_sym"
   ]
  },
  {
   "cell_type": "markdown",
   "id": "3b5111a0",
   "metadata": {},
   "source": [
    "Show $A$ and $B$:"
   ]
  },
  {
   "cell_type": "code",
   "execution_count": null,
   "id": "828822af",
   "metadata": {},
   "outputs": [],
   "source": [
    "print(f'A =\\n{A}\\n\\nB =\\n{B}')"
   ]
  },
  {
   "cell_type": "markdown",
   "id": "3ec026d4",
   "metadata": {},
   "source": [
    "The state-space model\n",
    "\n",
    "$$\\dot{x} = Ax + Bu$$\n",
    "\n",
    "should approximate the original (nonlinear) model\n",
    "\n",
    "$$\\dot{m} = f(m, n)$$\n",
    "\n",
    "near the equilibrium point $m_e, n_e$. In particular, it should be true that\n",
    "\n",
    "$$Ax+Bu \\approx f(x + m_e, u + n_e)$$\n",
    "\n",
    "for $x \\approx 0$ and $u \\approx 0$, or equivalently that\n",
    "\n",
    "$$A(m - m_e)+B(n - n_e) \\approx f(m, n)$$\n",
    "\n",
    "for $m \\approx m_e$ and $n \\approx n_e$. One way to check that this is true is by plotting both functions near the equilibrium point. We will do so as $q_1$ varies from $q_{1e} - \\pi$ to $q_{1e} + \\pi$ while keeping $v_1=v_{1e}$ and $v_2=v_{2e}$, as an example."
   ]
  },
  {
   "cell_type": "code",
   "execution_count": null,
   "id": "fa5c30a7",
   "metadata": {},
   "outputs": [],
   "source": [
    "# Create a figure with two subplots side-by-side that share a y-axis\n",
    "fig, (ax_m, ax_x) = plt.subplots(1, 2, figsize=(15, 5), sharey=True)\n",
    "\n",
    "# Create an array of values for q1\n",
    "q1 = np.linspace(q1e - np.pi, q1e + np.pi, 100)\n",
    "\n",
    "# Create empty arrays to hold xdot (i.e., Ax+Bu) and mdot (i.e., f(m,n))\n",
    "xdot = np.empty((len(q1), 3))\n",
    "mdot = np.empty((len(q1), 3))\n",
    "\n",
    "# Iterate over all elements of q1\n",
    "for i in range(len(q1)):\n",
    "    \n",
    "    # Compute Ax+Bu\n",
    "    x = np.array([q1[i] - q1e, 0. - v1e, 0. - v2e])\n",
    "    u = np.array([0. - taue])\n",
    "    xdot[i] = A @ x + B @ u\n",
    "    \n",
    "    # Compute f(m,n)\n",
    "    mdot[i] = f_num(q1[i], 0., 0., 0.).flatten()\n",
    "\n",
    "# Plot as a function of q1\n",
    "ax_m.plot(q1, mdot[:, 0], '-', label='$\\dot{m}_1$', color='C0', linewidth=1)\n",
    "ax_m.plot(q1, xdot[:, 0], '--', label='$\\dot{x}_1$', color='C0', linewidth=3)\n",
    "ax_m.plot(q1, mdot[:, 1], '-', label='$\\dot{m}_2$', color='C1', linewidth=1)\n",
    "ax_m.plot(q1, xdot[:, 1], '--', label='$\\dot{x}_2$', color='C1', linewidth=3)\n",
    "ax_m.plot(q1, mdot[:, 2], '-', label='$\\dot{m}_3$', color='C2', linewidth=1)\n",
    "ax_m.plot(q1, xdot[:, 2], '--', label='$\\dot{x}_3$', color='C2', linewidth=3)\n",
    "ax_m.legend(fontsize=14)\n",
    "ax_m.set_xlabel('$q_1$', fontsize=14)\n",
    "ax_m.grid()\n",
    "\n",
    "# Plot as a function of x1\n",
    "ax_x.plot(q1 - q1e, mdot[:, 0], '-', label='$\\dot{m}_1$', color='C0', linewidth=1)\n",
    "ax_x.plot(q1 - q1e, xdot[:, 0], '--', label='$\\dot{x}_1$', color='C0', linewidth=3)\n",
    "ax_x.plot(q1 - q1e, mdot[:, 1], '-', label='$\\dot{m}_2$', color='C1', linewidth=1)\n",
    "ax_x.plot(q1 - q1e, xdot[:, 1], '--', label='$\\dot{x}_2$', color='C1', linewidth=3)\n",
    "ax_x.plot(q1 - q1e, mdot[:, 2], '-', label='$\\dot{m}_3$', color='C2', linewidth=1)\n",
    "ax_x.plot(q1 - q1e, xdot[:, 2], '--', label='$\\dot{x}_3$', color='C2', linewidth=3)\n",
    "ax_x.legend(fontsize=14)\n",
    "ax_x.set_xlabel('$x_1$', fontsize=14)\n",
    "ax_x.grid()"
   ]
  },
  {
   "cell_type": "markdown",
   "id": "665e839b",
   "metadata": {},
   "source": [
    "## Make a plot to compare simulation results with what the state-space model predicts"
   ]
  },
  {
   "cell_type": "markdown",
   "id": "24f057e6",
   "metadata": {},
   "source": [
    "Choose gain matrix for controller."
   ]
  },
  {
   "cell_type": "code",
   "execution_count": null,
   "id": "e2891502",
   "metadata": {},
   "outputs": [],
   "source": [
    "K = np.array([[35., 25., 0.5]])"
   ]
  },
  {
   "cell_type": "markdown",
   "id": "8f99f909",
   "metadata": {},
   "source": [
    "Verify that gain matrix results in a stable closed-loop system."
   ]
  },
  {
   "cell_type": "code",
   "execution_count": null,
   "id": "0f9e8e17",
   "metadata": {},
   "outputs": [],
   "source": [
    "s = linalg.eigvals(A - B @ K)\n",
    "for i in range(len(s)):\n",
    "    print(f's{i + 1} = {s[i]:.2f}')"
   ]
  },
  {
   "cell_type": "markdown",
   "id": "55155f75",
   "metadata": {},
   "source": [
    "Choose initial conditions."
   ]
  },
  {
   "cell_type": "code",
   "execution_count": null,
   "id": "87c7c65d",
   "metadata": {},
   "outputs": [],
   "source": [
    "(q1i, v1i, v2i) = (np.pi + 0.02, 0., 0.)"
   ]
  },
  {
   "cell_type": "markdown",
   "id": "cdd7db48",
   "metadata": {},
   "source": [
    "Get and parse simulation results."
   ]
  },
  {
   "cell_type": "code",
   "execution_count": null,
   "id": "dc9cab3d",
   "metadata": {},
   "outputs": [],
   "source": [
    "data = get_data_from_simulation(simulator, q1e, v1e, v2e, taue, K, q1i, v1i, v2i, max_time=5.0)\n",
    "t = data['t']\n",
    "q1 = data['platform_angle']\n",
    "v1 = data['platform_velocity']\n",
    "v2 = data['wheel_velocity']\n",
    "tau = -data['wheel_torque']"
   ]
  },
  {
   "cell_type": "markdown",
   "id": "c827831c",
   "metadata": {},
   "source": [
    "Get $x(t)$ and $u(t)$ from state-space model."
   ]
  },
  {
   "cell_type": "code",
   "execution_count": null,
   "id": "b5742eb2",
   "metadata": {},
   "outputs": [],
   "source": [
    "x, u = get_data_from_model(data, q1e, v1e, v2e, A, B)"
   ]
  },
  {
   "cell_type": "markdown",
   "id": "0ac8bf0e",
   "metadata": {},
   "source": [
    "Plot results."
   ]
  },
  {
   "cell_type": "code",
   "execution_count": null,
   "id": "e820aef5",
   "metadata": {},
   "outputs": [],
   "source": [
    "fig, (ax_q1, ax_v1, ax_v2, ax_tau) = plt.subplots(4, 1, figsize=(12, 12), sharex=True)\n",
    "\n",
    "ax_q1.plot(t, q1, '-', label='$q_1$ (simulation)', linewidth=2)\n",
    "ax_q1.plot(t, x[:, 0] + q1e, '--', label='$q_1$ (model)', linewidth=3)\n",
    "ax_q1.plot(t, np.pi * np.ones_like(t), ':', linewidth=1, color='C3')\n",
    "ax_q1.legend(fontsize=14)\n",
    "ax_q1.grid()\n",
    "\n",
    "ax_v1.plot(t, v1, '-', label='$v_1$ (simulation)', linewidth=2)\n",
    "ax_v1.plot(t, x[:, 1] + v1e, '--', label='$v_1$ (model)', linewidth=3)\n",
    "ax_v1.legend(fontsize=14)\n",
    "ax_v1.grid()\n",
    "\n",
    "ax_v2.plot(t, v2, '-', label='$v_2$ (simulation)', linewidth=2)\n",
    "ax_v2.plot(t, x[:, 2] + v2e, '--', label='$v_2$ (model)', linewidth=3)\n",
    "ax_v2.legend(fontsize=14)\n",
    "ax_v2.grid()\n",
    "\n",
    "ax_tau.plot(t, tau, '-', label=r'$\\tau$ (simulation)', linewidth=2)\n",
    "ax_tau.plot(t, u[:, 0] + taue, '--', label=r'$\\tau$ (model)', linewidth=3)\n",
    "ax_tau.legend(fontsize=14)\n",
    "ax_tau.set_xlabel('time (s)', fontsize=14)\n",
    "ax_tau.set_xlim(t[0], t[-1])\n",
    "ax_tau.grid()"
   ]
  },
  {
   "cell_type": "markdown",
   "id": "63a95832",
   "metadata": {},
   "source": [
    "## Make a plot to visualize the impact of varying initial conditions"
   ]
  },
  {
   "cell_type": "markdown",
   "id": "a9e0767b",
   "metadata": {},
   "source": [
    "Compute $q_1(5)$ as $q_1(0)$ varies from $q_{1e} - 0.4$ to $q_{1e} + 0.4$."
   ]
  },
  {
   "cell_type": "code",
   "execution_count": null,
   "id": "d5ff1254",
   "metadata": {},
   "outputs": [],
   "source": [
    "# Define array of initial conditions\n",
    "q1i = np.linspace(q1e - 0.4, q1e + 0.4, 50)\n",
    "\n",
    "# Define empty array to hold final conditions\n",
    "q1f = np.empty_like(q1i)\n",
    "\n",
    "# Iterate over all initial conditions\n",
    "for i in range(len(q1i)):\n",
    "    data = get_data_from_simulation(simulator, q1e, v1e, v2e, taue, K, q1i[i], v1i, v2i, max_time=5.0)\n",
    "    q1f[i] = data['platform_angle'][-1]"
   ]
  },
  {
   "cell_type": "markdown",
   "id": "80568172",
   "metadata": {},
   "source": [
    "Plot results."
   ]
  },
  {
   "cell_type": "code",
   "execution_count": null,
   "id": "db0af1a4",
   "metadata": {},
   "outputs": [],
   "source": [
    "fig, (ax) = plt.subplots(1, 1, figsize=(8, 6), sharex=True)\n",
    "\n",
    "ax.plot(q1i, q1f, '.', markersize=12, label='$q_1(5)$')\n",
    "ax.plot(q1i, q1e * np.ones_like(q1i), '--', linewidth=2, label='$q_{1e}$')\n",
    "ax.set_xlim(q1i[0], q1i[-1])\n",
    "ax.set_xlabel('$q_1(0)$', fontsize=14)\n",
    "ax.legend(fontsize=14)\n",
    "ax.grid()"
   ]
  }
 ],
 "metadata": {
  "kernelspec": {
   "display_name": "Python 3 (ipykernel)",
   "language": "python",
   "name": "python3"
  },
  "language_info": {
   "codemirror_mode": {
    "name": "ipython",
    "version": 3
   },
   "file_extension": ".py",
   "mimetype": "text/x-python",
   "name": "python",
   "nbconvert_exporter": "python",
   "pygments_lexer": "ipython3",
   "version": "3.10.2"
  }
 },
 "nbformat": 4,
 "nbformat_minor": 5
}
